{
 "cells": [
  {
   "cell_type": "code",
   "execution_count": 3,
   "metadata": {},
   "outputs": [],
   "source": [
    "import scipy.io\n",
    "import os"
   ]
  },
  {
   "cell_type": "code",
   "execution_count": 6,
   "metadata": {},
   "outputs": [
    {
     "name": "stdout",
     "output_type": "stream",
     "text": [
      "---- avg1 ----\n",
      "PSNR = 37.86 dB\n",
      "SSIM = 0.958\n",
      "---- avg2 ----\n",
      "PSNR = 39.89 dB\n",
      "SSIM = 0.969\n",
      "---- avg4 ----\n",
      "PSNR = 41.90 dB\n",
      "SSIM = 0.976\n",
      "---- avg8 ----\n",
      "PSNR = 43.75 dB\n",
      "SSIM = 0.981\n",
      "---- avg16 ----\n",
      "PSNR = 45.42 dB\n",
      "SSIM = 0.985\n"
     ]
    }
   ],
   "source": [
    "method = 'BM3D'\n",
    "\n",
    "for avg in [1,2,4,8,16]:\n",
    "    \n",
    "    dataset = f'avg{avg}'\n",
    "    result_folder = os.path.join('../../../results', method, dataset)\n",
    "    PSNR = scipy.io.loadmat(result_folder + '/PSNR.mat')['PSNR']\n",
    "    SSIM = scipy.io.loadmat(result_folder + '/SSIM.mat')['SSIM']\n",
    "\n",
    "    print(f'---- {dataset} ----')\n",
    "    print(f'PSNR = {PSNR.mean():.2f} dB')\n",
    "    print(f'SSIM = {SSIM.mean():.3f}')\n"
   ]
  }
 ],
 "metadata": {
  "kernelspec": {
   "display_name": "Python 3",
   "language": "python",
   "name": "python3"
  },
  "language_info": {
   "codemirror_mode": {
    "name": "ipython",
    "version": 3
   },
   "file_extension": ".py",
   "mimetype": "text/x-python",
   "name": "python",
   "nbconvert_exporter": "python",
   "pygments_lexer": "ipython3",
   "version": "3.7.4"
  }
 },
 "nbformat": 4,
 "nbformat_minor": 4
}
