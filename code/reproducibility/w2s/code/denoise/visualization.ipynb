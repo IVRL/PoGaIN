{
 "cells": [
  {
   "cell_type": "code",
   "execution_count": 49,
   "metadata": {},
   "outputs": [],
   "source": [
    "import scipy.io\n",
    "from decimal import Decimal\n",
    "import matplotlib.pyplot as plt\n",
    "import os\n",
    "import numpy as np"
   ]
  },
  {
   "cell_type": "code",
   "execution_count": 87,
   "metadata": {},
   "outputs": [],
   "source": [
    "def print_latex(method, PSNR, SSIM):\n",
    "    \n",
    "    name = {'PURELET': 'PURE-LET~\\cite{luisier2011image}',\n",
    "            'EPLL': 'VST+EPLL~\\cite{zoran2011learning}',\n",
    "            'BM3D': 'VST+BM3D~\\cite{BM3D}',\n",
    "            'D': 'DnCNN~\\cite{zhang2017beyond}',\n",
    "            'M': 'MemNet~\\cite{tai2017memnet}',\n",
    "            'R': 'RIDNet~\\cite{anwar2019real}'}\n",
    "    \n",
    "    string = f'{name[method]} & '\n",
    "    for idx, (p, s) in enumerate(zip(PSNR, SSIM)):\n",
    "        string += f'{p:.2f}/{s:.3f}'\n",
    "        if idx < len(PSNR)-1:\n",
    "            string += ' & '\n",
    "    string += ' \\\\\\\\'\n",
    "    print(string)"
   ]
  },
  {
   "cell_type": "code",
   "execution_count": 88,
   "metadata": {},
   "outputs": [
    {
     "name": "stdout",
     "output_type": "stream",
     "text": [
      "averages\n",
      "[1, 2, 4, 8, 16] \n",
      "\n",
      "PURE-LET~\\cite{luisier2011image} & 37.29/0.939 & 38.93/0.952 & 40.83/0.964 & 42.44/0.972 & 44.05/0.977 \\\\\n",
      "VST+EPLL~\\cite{zoran2011learning} & 37.51/0.951 & 39.56/0.965 & 41.59/0.973 & 43.36/0.980 & 45.16/0.984 \\\\\n",
      "VST+BM3D~\\cite{BM3D} & 37.80/0.955 & 39.78/0.967 & 41.78/0.975 & 43.52/0.980 & 45.30/0.985 \\\\\n",
      "DnCNN~\\cite{zhang2017beyond} & 38.20/0.952 & 39.40/0.963 & 41.54/0.972 & 43.16/0.977 & 44.13/0.978 \\\\\n",
      "MemNet~\\cite{tai2017memnet} & 38.25/0.952 & 39.69/0.962 & 41.04/0.970 & 42.84/0.976 & 44.45/0.980 \\\\\n",
      "RIDNet~\\cite{anwar2019real} & 37.82/0.949 & 38.99/0.958 & 41.47/0.970 & 42.07/0.975 & 44.95/0.982 \\\\\n"
     ]
    }
   ],
   "source": [
    "methods = ['PURELET', 'EPLL', 'BM3D', 'D', 'M', 'R']\n",
    "averages = [1,2,4,8,16]\n",
    "print('averages')\n",
    "print(averages, '\\n')\n",
    "test_range = range(240,360)\n",
    "\n",
    "for method in methods:\n",
    "    all_psnr = []\n",
    "    all_ssim = []\n",
    "    for avg in averages:\n",
    "        dataset = f'avg{avg}'\n",
    "        results_dir = '../../results/'\n",
    "\n",
    "        if method in ['BM3D', 'EPLL', 'PURELET']:\n",
    "            PSNR = scipy.io.loadmat(os.path.join(results_dir, method, dataset, 'PSNR.mat'))['PSNR']\n",
    "            SSIM = scipy.io.loadmat(os.path.join(results_dir, method, dataset, 'SSIM.mat'))['SSIM']\n",
    "            PSNR = PSNR[0,test_range]\n",
    "            SSIM = SSIM[0,test_range]\n",
    "        else:\n",
    "            method_trained = method + '_' + str(avg)        \n",
    "            PSNR = np.load(os.path.join(results_dir, method_trained, dataset, 'PSNR.npy'))\n",
    "            SSIM = np.load(os.path.join(results_dir, method_trained, dataset, 'SSIM.npy'))\n",
    "            PSNR = PSNR[test_range]\n",
    "            SSIM = SSIM[test_range]\n",
    "\n",
    "        all_psnr.append(PSNR.mean())\n",
    "        all_ssim.append(SSIM.mean())\n",
    "        \n",
    "    print_latex(method, all_psnr, all_ssim)\n",
    "\n",
    "    \n",
    "# R (128 bs; lr 0.001)\n",
    "# [25.03, 28.09, 30.94, 40.98, 43.55]\n",
    "# [0.395, 0.55, 0.681, 0.957, 0.976]\n",
    "\n",
    "# R (128 bs; lr 0.0005)\n",
    "# [36.17, 38.2, 40.74, 42.67, 43.07]\n",
    "# [0.934, 0.956, 0.968, 0.975, 0.977]\n",
    "\n",
    "# R (64 bs; lr 0.0005)\n",
    "# [37.82, 38.99, 41.47, 42.07, 44.95]\n",
    "# [0.949, 0.958, 0.97, 0.975, 0.982]"
   ]
  }
 ],
 "metadata": {
  "kernelspec": {
   "display_name": "Python 3",
   "language": "python",
   "name": "python3"
  },
  "language_info": {
   "codemirror_mode": {
    "name": "ipython",
    "version": 3
   },
   "file_extension": ".py",
   "mimetype": "text/x-python",
   "name": "python",
   "nbconvert_exporter": "python",
   "pygments_lexer": "ipython3",
   "version": "3.7.4"
  }
 },
 "nbformat": 4,
 "nbformat_minor": 4
}
